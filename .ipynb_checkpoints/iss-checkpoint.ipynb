{
 "cells": [
  {
   "cell_type": "code",
   "execution_count": 1,
   "metadata": {},
   "outputs": [],
   "source": [
    "import requests\n",
    "import matplotlib.pyplot as plt\n",
    "from datetime import datetime\n",
    "import time"
   ]
  },
  {
   "cell_type": "code",
   "execution_count": null,
   "metadata": {},
   "outputs": [],
   "source": [
    "url = \"http://api.open-notify.org/iss-now.json\"\n",
    "data_points = []\n",
    "\n",
    "for _ in range(100):\n",
    "    response = requests.get(url)\n",
    "    if response.status_code == 200:\n",
    "        data = response.json()\n",
    "        timestamp = datetime.fromtimestamp(data['timestamp'])\n",
    "        latitude = float(data['iss_position']['latitude'])\n",
    "        longitude = float(data['iss_position']['longitude'])\n",
    "        data_points.append((timestamp, latitude, longitude))\n",
    "    time.sleep(10)  # Wait for 10 seconds between API calls\n",
    "\n",
    "latitudes = [point[1] for point in data_points]\n",
    "longitudes = [point[2] for point in data_points]\n",
    "\n",
    "plt.figure(figsize=(10, 6))\n",
    "plt.plot(longitudes, latitudes, '-o')\n",
    "plt.xlabel('Longitude')\n",
    "plt.ylabel('Latitude')\n",
    "plt.title('International Space Station Path')\n",
    "plt.grid(True)\n",
    "plt.show()"
   ]
  }
 ],
 "metadata": {
  "kernelspec": {
   "display_name": "Python 3 (ipykernel)",
   "language": "python",
   "name": "python3"
  },
  "language_info": {
   "codemirror_mode": {
    "name": "ipython",
    "version": 3
   },
   "file_extension": ".py",
   "mimetype": "text/x-python",
   "name": "python",
   "nbconvert_exporter": "python",
   "pygments_lexer": "ipython3",
   "version": "3.10.9"
  }
 },
 "nbformat": 4,
 "nbformat_minor": 2
}
